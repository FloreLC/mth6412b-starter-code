{
 "cells": [
  {
   "cell_type": "code",
   "execution_count": 5,
   "id": "423e0b71",
   "metadata": {},
   "outputs": [],
   "source": [
    "include(\"../phase 1/graph.jl\")\n",
    "include(\"./new_connex.jl\")\n",
    "\n",
    "using DataStructures"
   ]
  },
  {
   "cell_type": "code",
   "execution_count": 11,
   "id": "4655fd68",
   "metadata": {},
   "outputs": [],
   "source": [
    "g = Graph{Char}()\n",
    "    for i in 1:9\n",
    "        n = Node(string('a' + i-1), 'a' + i-1)\n",
    "        add_node!(g, n)\n",
    "    end\n",
    "    add_edge!(g, Edge((get_node(g, \"a\"), get_node(g, \"b\")), 4))\n",
    "    add_edge!(g, Edge( (get_node(g, \"a\"), get_node(g, \"h\")), 8))\n",
    "    add_edge!(g, Edge((get_node(g, \"b\"), get_node(g, \"h\")), 11))\n",
    "    add_edge!(g, Edge((get_node(g, \"b\"), get_node(g, \"c\")), 8))\n",
    "    add_edge!(g, Edge((get_node(g, \"h\"), get_node(g, \"i\")), 7))\n",
    "    add_edge!(g, Edge((get_node(g, \"g\"), get_node(g, \"h\")), 1))\n",
    "    add_edge!(g, Edge((get_node(g, \"i\"), get_node(g, \"g\")), 6))\n",
    "    add_edge!(g, Edge((get_node(g, \"i\"), get_node(g, \"c\")), 2))\n",
    "    add_edge!(g, Edge((get_node(g, \"g\"), get_node(g, \"f\")), 2))\n",
    "    add_edge!(g, Edge((get_node(g, \"c\"), get_node(g, \"f\")), 4))\n",
    "    add_edge!(g, Edge((get_node(g, \"c\"), get_node(g, \"d\")), 7))\n",
    "    add_edge!(g, Edge((get_node(g, \"d\"), get_node(g, \"f\")), 14))\n",
    "    add_edge!(g, Edge((get_node(g, \"d\"), get_node(g, \"e\")), 9))\n",
    "    add_edge!(g, Edge((get_node(g, \"f\"), get_node(g, \"e\")), 10));"
   ]
  },
  {
   "cell_type": "code",
   "execution_count": 20,
   "id": "b175d07c",
   "metadata": {},
   "outputs": [
    {
     "data": {
      "text/plain": [
       "isless (generic function with 2 methods)"
      ]
     },
     "execution_count": 20,
     "metadata": {},
     "output_type": "execute_result"
    }
   ],
   "source": [
    "function isless(e::Edge{T}, f::Edge{T}) where T\n",
    "    return weight(e) <= weight(f)\n",
    "end"
   ]
  },
  {
   "cell_type": "code",
   "execution_count": 23,
   "id": "6f2d1204",
   "metadata": {},
   "outputs": [
    {
     "data": {
      "text/plain": [
       "MutableBinaryHeap(Edge{Char}((Node{Char}(\"g\", 'g'), Node{Char}(\"h\", 'h')), 1), Edge{Char}((Node{Char}(\"i\", 'i'), Node{Char}(\"c\", 'c')), 2), Edge{Char}((Node{Char}(\"a\", 'a'), Node{Char}(\"b\", 'b')), 4), Edge{Char}((Node{Char}(\"g\", 'g'), Node{Char}(\"f\", 'f')), 2), Edge{Char}((Node{Char}(\"c\", 'c'), Node{Char}(\"f\", 'f')), 4), Edge{Char}((Node{Char}(\"d\", 'd'), Node{Char}(\"e\", 'e')), 9), Edge{Char}((Node{Char}(\"i\", 'i'), Node{Char}(\"g\", 'g')), 6), Edge{Char}((Node{Char}(\"b\", 'b'), Node{Char}(\"c\", 'c')), 8), Edge{Char}((Node{Char}(\"h\", 'h'), Node{Char}(\"i\", 'i')), 7), Edge{Char}((Node{Char}(\"a\", 'a'), Node{Char}(\"h\", 'h')), 8), Edge{Char}((Node{Char}(\"c\", 'c'), Node{Char}(\"d\", 'd')), 7), Edge{Char}((Node{Char}(\"d\", 'd'), Node{Char}(\"f\", 'f')), 14), Edge{Char}((Node{Char}(\"b\", 'b'), Node{Char}(\"h\", 'h')), 11), Edge{Char}((Node{Char}(\"f\", 'f'), Node{Char}(\"e\", 'e')), 10))"
      ]
     },
     "execution_count": 23,
     "metadata": {},
     "output_type": "execute_result"
    }
   ],
   "source": [
    "h = MutableBinaryHeap(Base.By(weight),edges(g))"
   ]
  },
  {
   "cell_type": "code",
   "execution_count": 27,
   "id": "ad610a44",
   "metadata": {},
   "outputs": [
    {
     "name": "stdout",
     "output_type": "stream",
     "text": [
      "weight(pop!(h)) = 2\n",
      "weight(pop!(h)) = 2\n",
      "weight(pop!(h)) = 4\n",
      "weight(pop!(h)) = 4\n",
      "weight(pop!(h)) = 6\n",
      "weight(pop!(h)) = 7\n",
      "weight(pop!(h)) = 7\n",
      "weight(pop!(h)) = 8\n",
      "weight(pop!(h)) = 8\n",
      "weight(pop!(h)) = 9\n",
      "weight(pop!(h)) = 10\n",
      "weight(pop!(h)) = 11\n",
      "weight(pop!(h)) = 14\n"
     ]
    },
    {
     "data": {
      "text/plain": [
       "MutableBinaryHeap()"
      ]
     },
     "execution_count": 27,
     "metadata": {},
     "output_type": "execute_result"
    }
   ],
   "source": [
    "for i in 1:length(h)\n",
    "   @show weight(pop!(h))\n",
    "end\n",
    "h"
   ]
  }
 ],
 "metadata": {
  "kernelspec": {
   "display_name": "Julia 1.7.3",
   "language": "julia",
   "name": "julia-1.7"
  },
  "language_info": {
   "file_extension": ".jl",
   "mimetype": "application/julia",
   "name": "julia",
   "version": "1.7.3"
  }
 },
 "nbformat": 4,
 "nbformat_minor": 5
}
