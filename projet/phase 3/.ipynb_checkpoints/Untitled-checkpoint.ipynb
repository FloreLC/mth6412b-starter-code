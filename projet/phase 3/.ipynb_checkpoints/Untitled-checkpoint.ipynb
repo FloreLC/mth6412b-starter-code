{
 "cells": [
  {
   "cell_type": "code",
   "execution_count": 5,
   "id": "55b811b9",
   "metadata": {},
   "outputs": [],
   "source": [
    "include(\"../phase 1/graph.jl\")\n",
    "include(\"./new_connex.jl\")\n",
    "\n",
    "using DataStructures"
   ]
  },
  {
   "cell_type": "code",
   "execution_count": 11,
   "id": "e1254b9b",
   "metadata": {},
   "outputs": [],
   "source": [
    "g = Graph{Char}()\n",
    "    for i in 1:9\n",
    "        n = Node(string('a' + i-1), 'a' + i-1)\n",
    "        add_node!(g, n)\n",
    "    end\n",
    "    add_edge!(g, Edge((get_node(g, \"a\"), get_node(g, \"b\")), 4))\n",
    "    add_edge!(g, Edge( (get_node(g, \"a\"), get_node(g, \"h\")), 8))\n",
    "    add_edge!(g, Edge((get_node(g, \"b\"), get_node(g, \"h\")), 11))\n",
    "    add_edge!(g, Edge((get_node(g, \"b\"), get_node(g, \"c\")), 8))\n",
    "    add_edge!(g, Edge((get_node(g, \"h\"), get_node(g, \"i\")), 7))\n",
    "    add_edge!(g, Edge((get_node(g, \"g\"), get_node(g, \"h\")), 1))\n",
    "    add_edge!(g, Edge((get_node(g, \"i\"), get_node(g, \"g\")), 6))\n",
    "    add_edge!(g, Edge((get_node(g, \"i\"), get_node(g, \"c\")), 2))\n",
    "    add_edge!(g, Edge((get_node(g, \"g\"), get_node(g, \"f\")), 2))\n",
    "    add_edge!(g, Edge((get_node(g, \"c\"), get_node(g, \"f\")), 4))\n",
    "    add_edge!(g, Edge((get_node(g, \"c\"), get_node(g, \"d\")), 7))\n",
    "    add_edge!(g, Edge((get_node(g, \"d\"), get_node(g, \"f\")), 14))\n",
    "    add_edge!(g, Edge((get_node(g, \"d\"), get_node(g, \"e\")), 9))\n",
    "    add_edge!(g, Edge((get_node(g, \"f\"), get_node(g, \"e\")), 10));"
   ]
  },
  {
   "cell_type": "code",
   "execution_count": null,
   "id": "3190a0de",
   "metadata": {},
   "outputs": [],
   "source": [
    "function isless(e::AbstractEdge, f::AbstractEdge)\n",
    "    return weight(e) <= weight(f)\n",
    "end"
   ]
  },
  {
   "cell_type": "code",
   "execution_count": 17,
   "id": "e0b7af21",
   "metadata": {},
   "outputs": [
    {
     "ename": "LoadError",
     "evalue": "MethodError: no method matching isless(::Edge{Char}, ::Edge{Char})\n\u001b[0mClosest candidates are:\n\u001b[0m  isless(::Any, \u001b[91m::Missing\u001b[39m) at /Applications/Julia-1.7.app/Contents/Resources/julia/share/julia/base/missing.jl:88\n\u001b[0m  isless(\u001b[91m::Missing\u001b[39m, ::Any) at /Applications/Julia-1.7.app/Contents/Resources/julia/share/julia/base/missing.jl:87",
     "output_type": "error",
     "traceback": [
      "MethodError: no method matching isless(::Edge{Char}, ::Edge{Char})\n\u001b[0mClosest candidates are:\n\u001b[0m  isless(::Any, \u001b[91m::Missing\u001b[39m) at /Applications/Julia-1.7.app/Contents/Resources/julia/share/julia/base/missing.jl:88\n\u001b[0m  isless(\u001b[91m::Missing\u001b[39m, ::Any) at /Applications/Julia-1.7.app/Contents/Resources/julia/share/julia/base/missing.jl:87",
      "",
      "Stacktrace:",
      " [1] lt(o::Base.Order.ForwardOrdering, a::Edge{Char}, b::Edge{Char})",
      "   @ Base.Order ./ordering.jl:109",
      " [2] _heap_bubble_up!",
      "   @ ~/.julia/packages/DataStructures/59MD0/src/heaps/mutable_binary_heap.jl:27 [inlined]",
      " [3] _make_mutable_binary_heap(ord::Base.Order.ForwardOrdering, ty::Type{Edge{Char}}, values::Vector{Edge{Char}})",
      "   @ DataStructures ~/.julia/packages/DataStructures/59MD0/src/heaps/mutable_binary_heap.jl:147",
      " [4] MutableBinaryHeap",
      "   @ ~/.julia/packages/DataStructures/59MD0/src/heaps/mutable_binary_heap.jl:171 [inlined]",
      " [5] MutableBinaryHeap",
      "   @ ~/.julia/packages/DataStructures/59MD0/src/heaps/mutable_binary_heap.jl:180 [inlined]",
      " [6] (MutableBinaryMinHeap)(xs::Vector{Edge{Char}})",
      "   @ DataStructures ~/.julia/packages/DataStructures/59MD0/src/heaps/mutable_binary_heap.jl:190",
      " [7] top-level scope",
      "   @ In[17]:1",
      " [8] eval",
      "   @ ./boot.jl:373 [inlined]",
      " [9] include_string(mapexpr::typeof(REPL.softscope), mod::Module, code::String, filename::String)",
      "   @ Base ./loading.jl:1196"
     ]
    }
   ],
   "source": [
    "h = MutableBinaryMinHeap(edges(g))"
   ]
  },
  {
   "cell_type": "code",
   "execution_count": 15,
   "id": "058643c7",
   "metadata": {},
   "outputs": [
    {
     "ename": "LoadError",
     "evalue": "MethodError: no method matching popmin!(::MutableBinaryHeap{Edge{Char}, Base.Order.By{typeof(weight), Base.Order.ForwardOrdering}})\n\u001b[0mClosest candidates are:\n\u001b[0m  popmin!(\u001b[91m::BinaryMinMaxHeap\u001b[39m) at ~/.julia/packages/DataStructures/59MD0/src/heaps/minmax_heap.jl:193\n\u001b[0m  popmin!(\u001b[91m::BinaryMinMaxHeap\u001b[39m, \u001b[91m::Integer\u001b[39m) at ~/.julia/packages/DataStructures/59MD0/src/heaps/minmax_heap.jl:211",
     "output_type": "error",
     "traceback": [
      "MethodError: no method matching popmin!(::MutableBinaryHeap{Edge{Char}, Base.Order.By{typeof(weight), Base.Order.ForwardOrdering}})\n\u001b[0mClosest candidates are:\n\u001b[0m  popmin!(\u001b[91m::BinaryMinMaxHeap\u001b[39m) at ~/.julia/packages/DataStructures/59MD0/src/heaps/minmax_heap.jl:193\n\u001b[0m  popmin!(\u001b[91m::BinaryMinMaxHeap\u001b[39m, \u001b[91m::Integer\u001b[39m) at ~/.julia/packages/DataStructures/59MD0/src/heaps/minmax_heap.jl:211",
      "",
      "Stacktrace:",
      " [1] top-level scope",
      "   @ In[15]:1",
      " [2] eval",
      "   @ ./boot.jl:373 [inlined]",
      " [3] include_string(mapexpr::typeof(REPL.softscope), mod::Module, code::String, filename::String)",
      "   @ Base ./loading.jl:1196"
     ]
    }
   ],
   "source": [
    "popmin!(h)"
   ]
  }
 ],
 "metadata": {
  "kernelspec": {
   "display_name": "Julia 1.7.3",
   "language": "julia",
   "name": "julia-1.7"
  },
  "language_info": {
   "file_extension": ".jl",
   "mimetype": "application/julia",
   "name": "julia",
   "version": "1.7.3"
  }
 },
 "nbformat": 4,
 "nbformat_minor": 5
}
